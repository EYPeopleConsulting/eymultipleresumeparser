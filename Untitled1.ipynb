{
 "cells": [
  {
   "cell_type": "code",
   "execution_count": 2,
   "id": "86e7c8d8-b246-40c0-a0b1-a83635857bd8",
   "metadata": {},
   "outputs": [
    {
     "name": "stdout",
     "output_type": "stream",
     "text": [
      "✅ Flask app running at: http://127.0.0.1:51682\n",
      " * Serving Flask app 'app'\n",
      " * Debug mode: off\n"
     ]
    },
    {
     "name": "stderr",
     "output_type": "stream",
     "text": [
      "WARNING: This is a development server. Do not use it in a production deployment. Use a production WSGI server instead.\n",
      " * Running on http://127.0.0.1:51682\n",
      "Press CTRL+C to quit\n",
      "127.0.0.1 - - [19/Jun/2025 11:41:57] \"GET / HTTP/1.1\" 200 -\n",
      "127.0.0.1 - - [19/Jun/2025 11:41:57] \"GET /static/ey_logo.png HTTP/1.1\" 200 -\n",
      "127.0.0.1 - - [19/Jun/2025 11:41:57] \"GET /favicon.ico HTTP/1.1\" 404 -\n",
      "127.0.0.1 - - [19/Jun/2025 11:43:32] \"POST /analyze HTTP/1.1\" 200 -\n",
      "127.0.0.1 - - [19/Jun/2025 11:43:32] \"GET /static/ey_logo.png HTTP/1.1\" 304 -\n",
      "127.0.0.1 - - [19/Jun/2025 11:44:00] \"GET /static/reports/01_w.pdf HTTP/1.1\" 200 -\n"
     ]
    }
   ],
   "source": [
    "from app import run_app_in_notebook\n",
    "run_app_in_notebook()"
   ]
  },
  {
   "cell_type": "code",
   "execution_count": null,
   "id": "81acedbb-6c39-4c4d-b7d4-47ba8e81447b",
   "metadata": {},
   "outputs": [],
   "source": []
  }
 ],
 "metadata": {
  "kernelspec": {
   "display_name": "Python 3 (ipykernel)",
   "language": "python",
   "name": "python3"
  },
  "language_info": {
   "codemirror_mode": {
    "name": "ipython",
    "version": 3
   },
   "file_extension": ".py",
   "mimetype": "text/x-python",
   "name": "python",
   "nbconvert_exporter": "python",
   "pygments_lexer": "ipython3",
   "version": "3.12.7"
  }
 },
 "nbformat": 4,
 "nbformat_minor": 5
}
