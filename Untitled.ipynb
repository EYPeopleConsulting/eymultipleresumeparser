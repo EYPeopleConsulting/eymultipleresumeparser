{
 "cells": [
  {
   "cell_type": "markdown",
   "id": "c0769bc5-271d-45a7-a375-393bfcb93128",
   "metadata": {},
   "source": [
    "# "
   ]
  },
  {
   "cell_type": "code",
   "execution_count": 4,
   "id": "8d566104-e173-4c20-a35d-b8f7410239df",
   "metadata": {},
   "outputs": [],
   "source": [
    "from flask import Flask, render_template, request\n",
    "import os\n",
    "import socket\n",
    "import pandas as pd\n",
    "from sklearn.feature_extraction.text import TfidfVectorizer\n",
    "\n",
    "from utils.split_by_bookmark import split_pdf_by_bookmarks\n",
    "from utils.extract_text import extract_text_and_info\n",
    "from utils.semantic_matcher import match_skills\n",
    "from utils.generate_report import save_results_to_excel, prepare_result_table\n",
    "from utils.jd_reader import extract_text_from_jd\n",
    "\n",
    "app = Flask(__name__)\n",
    "UPLOAD_FOLDER = \"uploads\"\n",
    "REPORT_FOLDER = \"static/reports\"\n",
    "EXCEL_REPORT = os.path.join(UPLOAD_FOLDER, \"resume_report.xlsx\")\n",
    "\n",
    "os.makedirs(UPLOAD_FOLDER, exist_ok=True)\n",
    "os.makedirs(REPORT_FOLDER, exist_ok=True)\n",
    "\n",
    "def get_free_port():\n",
    "    s = socket.socket()\n",
    "    s.bind(('', 0))\n",
    "    port = s.getsockname()[1]\n",
    "    s.close()\n",
    "    return port\n",
    "\n",
    "@app.route('/')\n",
    "def index():\n",
    "    return render_template('index.html')\n",
    "\n",
    "@app.route('/analyze', methods=['POST'])\n",
    "def analyze():\n",
    "    jd_file = request.files['jd_file']\n",
    "    resume_pdf = request.files['resume_pdf']\n",
    "    mandatory_skills = request.form['mandatory_skills'].split(',')\n",
    "    optional_skills = request.form['optional_skills'].split(',')\n",
    "\n",
    "    # Save files\n",
    "    jd_ext = os.path.splitext(jd_file.filename)[1].lower()\n",
    "    jd_filename = f\"jd{jd_ext}\"\n",
    "    jd_path = os.path.join(UPLOAD_FOLDER, jd_filename)\n",
    "    resume_path = os.path.join(UPLOAD_FOLDER, \"resumes.pdf\")\n",
    "    jd_file.save(jd_path)\n",
    "    resume_pdf.save(resume_path)\n",
    "\n",
    "    if os.path.getsize(jd_path) == 0:\n",
    "        return \"<h3 style='color:red'>❌ JD file is empty or corrupted. Please upload a valid PDF or Word file.</h3>\"\n",
    "\n",
    "    try:\n",
    "        jd_text = extract_text_from_jd(jd_path)\n",
    "    except Exception as e:\n",
    "        return f\"<h3 style='color:red'>❌ Failed to read JD file: {e}</h3>\"\n",
    "\n",
    "    try:\n",
    "        resumes = split_pdf_by_bookmarks(resume_path, REPORT_FOLDER)\n",
    "    except Exception as e:\n",
    "        return f\"<h3 style='color:red'>❌ Failed to split resume PDF: {e}</h3>\"\n",
    "\n",
    "    results = []\n",
    "    for r in resumes:\n",
    "        extracted = extract_text_and_info(r['filepath'])\n",
    "        skill_match = match_skills(extracted['text'], mandatory_skills, optional_skills)\n",
    "\n",
    "        # JD keyword gap via TF-IDF\n",
    "        tfidf = TfidfVectorizer(stop_words='english', max_features=1000)\n",
    "        tfidf_matrix = tfidf.fit_transform([jd_text, extracted['text']])\n",
    "        jd_features = tfidf.get_feature_names_out()\n",
    "\n",
    "        jd_words = set(tfidf_matrix[0].nonzero()[1])\n",
    "        resume_words = set(tfidf_matrix[1].nonzero()[1])\n",
    "        missing_keywords = [jd_features[i] for i in jd_words - resume_words]\n",
    "        top_missing = \", \".join(missing_keywords[:30]) if missing_keywords else \"None\"\n",
    "\n",
    "        results.append({\n",
    "            'name': r['name'],\n",
    "            'email': extracted['email'],\n",
    "            'phone': extracted['phone'],\n",
    "            'score': skill_match['score'],\n",
    "            'missing_must': skill_match['missing_mandatory'],\n",
    "            'missing_opt': skill_match['missing_optional'],\n",
    "            'missing_jd': top_missing,\n",
    "            'filename': r['filename']\n",
    "        })\n",
    "\n",
    "    save_results_to_excel(results, EXCEL_REPORT)\n",
    "    return render_template('results.html', results=prepare_result_table(results))\n",
    "\n",
    "@app.route('/results')\n",
    "def results():\n",
    "    if not os.path.exists(EXCEL_REPORT):\n",
    "        return \"No report available. Please upload files first.\"\n",
    "    df = pd.read_excel(EXCEL_REPORT)\n",
    "    df.fillna(\"N/A\", inplace=True)\n",
    "    return render_template('results.html', results=df.to_dict(orient='records'))\n",
    "\n",
    "# For Jupyter Notebook Launcher\n",
    "def run_app_in_notebook():\n",
    "    import nest_asyncio\n",
    "    import threading\n",
    "\n",
    "    nest_asyncio.apply()\n",
    "    port = get_free_port()\n",
    "    print(f\"✅ Flask app running at: http://127.0.0.1:{port}\")\n",
    "\n",
    "    def run():\n",
    "        app.run(port=port, debug=False, use_reloader=False)\n",
    "\n",
    "    threading.Thread(target=run).start()\n"
   ]
  },
  {
   "cell_type": "markdown",
   "id": "36fd30c7-219d-4388-a41d-dae4081b52e3",
   "metadata": {
    "jp-MarkdownHeadingCollapsed": true
   },
   "source": [
    "python app.py"
   ]
  },
  {
   "cell_type": "code",
   "execution_count": 3,
   "id": "ed74a233-039a-4fb4-a0b1-cba6bfd0c36b",
   "metadata": {},
   "outputs": [
    {
     "name": "stderr",
     "output_type": "stream",
     "text": [
      "Traceback (most recent call last):\n",
      "  File \"C:\\Users\\ZY633CY\\Anaconda\\resume_parser_new - Multiple resumes - Copy\\app.py\", line 105, in <module>\n",
      "    print(f\"\\u2705 App running at http://127.0.0.1:{port}\")\n",
      "  File \"C:\\Users\\ZY633CY\\AppData\\Local\\anaconda3\\Lib\\encodings\\cp1252.py\", line 19, in encode\n",
      "    return codecs.charmap_encode(input,self.errors,encoding_table)[0]\n",
      "           ^^^^^^^^^^^^^^^^^^^^^^^^^^^^^^^^^^^^^^^^^^^^^^^^^^^^^^^\n",
      "UnicodeEncodeError: 'charmap' codec can't encode character '\\u2705' in position 0: character maps to <undefined>\n"
     ]
    }
   ],
   "source": [
    "!python app.py"
   ]
  },
  {
   "cell_type": "code",
   "execution_count": null,
   "id": "a5b397c9-7fcc-4f4d-85d5-c2ff4719bd21",
   "metadata": {},
   "outputs": [],
   "source": []
  }
 ],
 "metadata": {
  "kernelspec": {
   "display_name": "Python 3 (ipykernel)",
   "language": "python",
   "name": "python3"
  },
  "language_info": {
   "codemirror_mode": {
    "name": "ipython",
    "version": 3
   },
   "file_extension": ".py",
   "mimetype": "text/x-python",
   "name": "python",
   "nbconvert_exporter": "python",
   "pygments_lexer": "ipython3",
   "version": "3.12.7"
  }
 },
 "nbformat": 4,
 "nbformat_minor": 5
}
